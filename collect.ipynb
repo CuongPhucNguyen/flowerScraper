{
 "cells": [
  {
   "cell_type": "code",
   "execution_count": 15,
   "metadata": {},
   "outputs": [],
   "source": [
    "import requests\n",
    "from bs4 import BeautifulSoup\n",
    "from unidecode import unidecode\n",
    "import urllib.request\n",
    "import os\n",
    "import shutil"
   ]
  },
  {
   "attachments": {},
   "cell_type": "markdown",
   "metadata": {},
   "source": [
    "ROSSI"
   ]
  },
  {
   "cell_type": "code",
   "execution_count": 10,
   "metadata": {},
   "outputs": [
    {
     "name": "stdout",
     "output_type": "stream",
     "text": [
      "{'cuc_rossi_c_1': 'https://dalat.flowers/hinh-hoa/7904_cuc-rossi-cam-orange-cty-10.jpg', 'cuc_rossi_c_2': 'https://dalat.flowers/album/252_cuc-rossi-cam-orange-cty-10.jpg', 'cuc_rossi_c_3': 'https://dalat.flowers/album/484_cuc-rossi-cam-orange-cty-10.jpg', 'cuc_rossi_c_4': 'https://dalat.flowers/hinh-hoa/11666_cuc-rossi-vang-5-canh.jpg', 'cuc_rossi_c_5': 'https://dalat.flowers/album/601_cuc-rossi-vang-5-canh.jpg', 'cuc_rossi_c_6': 'https://dalat.flowers/hinh-hoa/11654_cuc-rossi-trang-5-canh.jpg', 'cuc_rossi_c_7': 'https://dalat.flowers/album/595_cuc-rossi-trang-5-canh.jpg', 'cuc_rossi_c_8': 'https://dalat.flowers/hinh-hoa/11654_cuc-rossi-trang-5-canh.jpg', 'cuc_rossi_c_9': 'https://dalat.flowers/album/595_cuc-rossi-trang-5-canh.jpg', 'cuc_rossi_c_10': 'https://dalat.flowers/hinh-hoa/11654_cuc-rossi-trang-5-canh.jpg', 'cuc_rossi_c_11': 'https://dalat.flowers/album/595_cuc-rossi-trang-5-canh.jpg', 'cuc_rossi_c_12': 'https://dalat.flowers/hinh-hoa/11653_cuc-rossi-tim-5-canh.jpg', 'cuc_rossi_c_13': 'https://dalat.flowers/album/594_cuc-rossi-tim-5-canh.jpg', 'cuc_rossi_c_14': 'https://dalat.flowers/hinh-hoa/11652_cuc-rossi-hong-5-canh.jpg', 'cuc_rossi_c_15': 'https://dalat.flowers/album/593_cuc-rossi-hong-5-canh.jpg'}\n"
     ]
    }
   ],
   "source": [
    "files_rossi = {}\n",
    "\n",
    "urls_rossi = ['https://dalat.flowers/302/7904_cuc-rossi-cam-orange-cty-10.html',\n",
    "        'https://dalat.flowers/302/11666_cuc-rossi-vang-5-canh.html',\n",
    "        'https://dalat.flowers/302/11654_cuc-rossi-trang-5-canh.html',\n",
    "        'https://dalat.flowers/302/11654_cuc-rossi-trang-5-canh.html',\n",
    "        'https://dalat.flowers/302/11654_cuc-rossi-trang-5-canh.html',\n",
    "        'https://dalat.flowers/302/11653_cuc-rossi-tim-5-canh.html',\n",
    "        'https://dalat.flowers/302/11652_cuc-rossi-hong-5-canh.html']\n",
    "i = 1\n",
    "for url in urls_rossi:\n",
    "    x = requests.get(url)\n",
    "    soup = BeautifulSoup(x.text, \"html.parser\")\n",
    "    \n",
    "    for elements in soup.find_all(\"div\", {\"class\":\"thumb-image\"}):\n",
    "        files_rossi[unidecode('ROSSI').replace(\" \", \"_\").lower() + \"_c_\" + str(i)] = 'https://dalat.flowers' + elements.find(\"img\")['src']\n",
    "        i += 1\n",
    "        \n",
    "for image in files_rossi:\n",
    "    if 'hinh-hoa' in files_rossi[image]:\n",
    "        r = requests.get(files_rossi[image], stream=True)\n",
    "        with open(files_rossi[image].split(\"hinh-hoa/\")[1], 'wb') as f:\n",
    "            r.raw.decode_content = True\n",
    "            shutil.copyfileobj(r.raw, f)\n",
    "    else:\n",
    "        r = requests.get(files_rossi[image], stream=True)\n",
    "        with open(files_rossi[image].split(\"album/\")[1], 'wb') as f:\n",
    "            r.raw.decode_content = True\n",
    "            shutil.copyfileobj(r.raw, f)\n",
    "    if not os.path.exists(image.split(\"_c_\")[0]):\n",
    "        os.makedirs(image.split(\"_c_\")[0])\n",
    "    if 'hinh-hoa' in files_rossi[image]:\n",
    "        os.rename(files_rossi[image].split(\"hinh-hoa/\")[1], image.split(\"_c_\")[0] + '/' + image + \".jpg\")\n",
    "    else:\n",
    "        os.rename(files_rossi[image].split(\"album/\")[1], image.split(\"_c_\")[0] + '/' + image + \".jpg\")\n",
    "        \n",
    "    "
   ]
  },
  {
   "attachments": {},
   "cell_type": "markdown",
   "metadata": {},
   "source": [
    "BABY"
   ]
  },
  {
   "cell_type": "code",
   "execution_count": 26,
   "metadata": {},
   "outputs": [],
   "source": [
    "files_baby = {}\n",
    "\n",
    "urls_baby = ['https://dalat.flowers/297/8803_baby-ha-lan-trang-100g.html',\n",
    "        'https://dalat.flowers/297/8589_baby-ha-lan-hong-100g.html',\n",
    "        'https://dalat.flowers/297/11820_hoa-baby-da-lat-500g.html',\n",
    "        'https://dalat.flowers/297/8457_hoa-baby-ha-lan-trang-1000gr.html']\n",
    "i = 1\n",
    "for url in urls_baby:\n",
    "    x = requests.get(url)\n",
    "    soup = BeautifulSoup(x.text, \"html.parser\")\n",
    "    \n",
    "    for elements in soup.find_all(\"div\", {\"class\":\"thumb-image\"}):\n",
    "        files_baby[unidecode('baby').replace(\" \", \"_\").lower() + \"_c_\" + str(i)] = 'https://dalat.flowers' + elements.find(\"img\")['src']\n",
    "        i += 1\n",
    "for image in files_baby:\n",
    "    if 'hinh-hoa' in files_baby[image]:\n",
    "        r = requests.get(files_baby[image], stream=True)\n",
    "        with open(files_baby[image].split(\"hinh-hoa/\")[1], 'wb') as f:\n",
    "            r.raw.decode_content = True\n",
    "            shutil.copyfileobj(r.raw, f)\n",
    "    else:\n",
    "        r = requests.get(files_baby[image], stream=True)\n",
    "        with open(files_baby[image].split(\"album/\")[1], 'wb') as f:\n",
    "            r.raw.decode_content = True\n",
    "            shutil.copyfileobj(r.raw, f)\n",
    "    if not os.path.exists(image.split(\"_c_\")[0]):\n",
    "        os.makedirs(image.split(\"_c_\")[0])\n",
    "    if 'hinh-hoa' in files_baby[image]:\n",
    "        os.rename(files_baby[image].split(\"hinh-hoa/\")[1], image.split(\"_c_\")[0] + '/' + image + \".jpg\")\n",
    "    else:\n",
    "        os.rename(files_baby[image].split(\"album/\")[1], image.split(\"_c_\")[0] + '/' + image + \".jpg\")"
   ]
  },
  {
   "attachments": {},
   "cell_type": "markdown",
   "metadata": {},
   "source": [
    "CALIMERO"
   ]
  },
  {
   "cell_type": "code",
   "execution_count": 27,
   "metadata": {},
   "outputs": [],
   "source": [
    "files_calimero = {}\n",
    "\n",
    "urls_calimero = ['https://dalat.flowers/302/11651_cuc-calimero-trang-5-canh.html',\n",
    "        'https://dalat.flowers/302/11650_cuc-calimero-vang-nhuy-nau-5-canh.html',\n",
    "        'https://dalat.flowers/302/11649_cuc-calimero-hong-5-canh.html',\n",
    "        'https://dalat.flowers/302/11648_cuc-calimero-vang-5-canh.html',\n",
    "        'https://dalat.flowers/302/11504_cuc-calimero-xanh-5-canh.html',\n",
    "        'https://dalat.flowers/302/11647_cuc-calimero-tim-5-canh.html']\n",
    "i = 1\n",
    "for url in urls_calimero:\n",
    "    x = requests.get(url)\n",
    "    soup = BeautifulSoup(x.text, \"html.parser\")\n",
    "    \n",
    "    for elements in soup.find_all(\"div\", {\"class\":\"thumb-image\"}):\n",
    "        files_baby[unidecode('calimero').replace(\" \", \"_\").lower() + \"_c_\" + str(i)] = 'https://dalat.flowers' + elements.find(\"img\")['src']\n",
    "        i += 1\n",
    "for image in files_calimero:\n",
    "    if 'hinh-hoa' in files_calimero[image]:\n",
    "        r = requests.get(files_calimero[image], stream=True)\n",
    "        with open(files_calimero[image].split(\"hinh-hoa/\")[1], 'wb') as f:\n",
    "            r.raw.decode_content = True\n",
    "            shutil.copyfileobj(r.raw, f)\n",
    "    else:\n",
    "        r = requests.get(files_calimero[image], stream=True)\n",
    "        with open(files_calimero[image].split(\"album/\")[1], 'wb') as f:\n",
    "            r.raw.decode_content = True\n",
    "            shutil.copyfileobj(r.raw, f)\n",
    "    if not os.path.exists(image.split(\"_c_\")[0]):\n",
    "        os.makedirs(image.split(\"_c_\")[0])\n",
    "    if 'hinh-hoa' in files_calimero[image]:\n",
    "        os.rename(files_calimero[image].split(\"hinh-hoa/\")[1], image.split(\"_c_\")[0] + '/' + image + \".jpg\")\n",
    "    else:\n",
    "        os.rename(files_calimero[image].split(\"album/\")[1], image.split(\"_c_\")[0] + '/' + image + \".jpg\")"
   ]
  },
  {
   "attachments": {},
   "cell_type": "markdown",
   "metadata": {},
   "source": [
    "Hydrangeas"
   ]
  },
  {
   "cell_type": "code",
   "execution_count": 31,
   "metadata": {},
   "outputs": [],
   "source": [
    "files_hydrangeas = {}\n",
    "\n",
    "urls_hydrangeas = ['https://dalat.flowers/297/11819_cam-tu-cau-5-canh.html']\n",
    "i = 1\n",
    "for url in urls_hydrangeas:\n",
    "    x = requests.get(url)\n",
    "    soup = BeautifulSoup(x.text, \"html.parser\")\n",
    "    \n",
    "    for elements in soup.find_all(\"div\", {\"class\":\"thumb-image\"}):\n",
    "        files_hydrangeas[unidecode('hydrangeas').replace(\" \", \"_\").lower() + \"_c_\" + str(i)] = 'https://dalat.flowers' + elements.find(\"img\")['src']\n",
    "        i += 1\n",
    "for image in files_hydrangeas:\n",
    "    if 'hinh-hoa' in files_hydrangeas[image]:\n",
    "        r = requests.get(files_hydrangeas[image], stream=True)\n",
    "        with open(files_hydrangeas[image].split(\"hinh-hoa/\")[1], 'wb') as f:\n",
    "            r.raw.decode_content = True\n",
    "            shutil.copyfileobj(r.raw, f)\n",
    "    else:\n",
    "        r = requests.get(files_hydrangeas[image], stream=True)\n",
    "        with open(files_hydrangeas[image].split(\"album/\")[1], 'wb') as f:\n",
    "            r.raw.decode_content = True\n",
    "            shutil.copyfileobj(r.raw, f)\n",
    "    if not os.path.exists(image.split(\"_c_\")[0]):\n",
    "        os.makedirs(image.split(\"_c_\")[0])\n",
    "    if 'hinh-hoa' in files_hydrangeas[image]:\n",
    "        os.rename(files_hydrangeas[image].split(\"hinh-hoa/\")[1], image.split(\"_c_\")[0] + '/' + image + \".jpg\")\n",
    "    else:\n",
    "        os.rename(files_hydrangeas[image].split(\"album/\")[1], image.split(\"_c_\")[0] + '/' + image + \".jpg\")"
   ]
  },
  {
   "attachments": {},
   "cell_type": "markdown",
   "metadata": {},
   "source": [
    "Lisianthus"
   ]
  },
  {
   "cell_type": "code",
   "execution_count": 33,
   "metadata": {},
   "outputs": [],
   "source": [
    "files_lisianthus = {}\n",
    "\n",
    "urls_lisianthus = ['https://dalat.flowers/295/6535_cat-tuong-xanh-500g.html',\n",
    "        'https://dalat.flowers/295/6529_cat-tuong-trang-500g.html',\n",
    "        'https://dalat.flowers/295/6527_cat-tuong-tim-vien-500g.html',\n",
    "        'https://dalat.flowers/295/6523_cat-tuong-hong-vien-500g.html']\n",
    "i = 1\n",
    "for url in urls_lisianthus :\n",
    "    x = requests.get(url)\n",
    "    soup = BeautifulSoup(x.text, \"html.parser\")\n",
    "    \n",
    "    for elements in soup.find_all(\"div\", {\"class\":\"thumb-image\"}):\n",
    "        files_lisianthus[unidecode('lisianthus').replace(\" \", \"_\").lower() + \"_c_\" + str(i)] = 'https://dalat.flowers' + elements.find(\"img\")['src']\n",
    "        i += 1\n",
    "for image in files_lisianthus:\n",
    "    if 'hinh-hoa' in files_lisianthus[image]:\n",
    "        r = requests.get(files_lisianthus[image], stream=True)\n",
    "        with open(files_lisianthus[image].split(\"hinh-hoa/\")[1], 'wb') as f:\n",
    "            r.raw.decode_content = True\n",
    "            shutil.copyfileobj(r.raw, f)\n",
    "    else:\n",
    "        r = requests.get(files_lisianthus[image], stream=True)\n",
    "        with open(files_lisianthus[image].split(\"album/\")[1], 'wb') as f:\n",
    "            r.raw.decode_content = True\n",
    "            shutil.copyfileobj(r.raw, f)\n",
    "    if not os.path.exists(image.split(\"_c_\")[0]):\n",
    "        os.makedirs(image.split(\"_c_\")[0])\n",
    "    if 'hinh-hoa' in files_lisianthus[image]:\n",
    "        os.rename(files_lisianthus[image].split(\"hinh-hoa/\")[1], image.split(\"_c_\")[0] + '/' + image + \".jpg\")\n",
    "    else:\n",
    "        os.rename(files_lisianthus[image].split(\"album/\")[1], image.split(\"_c_\")[0] + '/' + image + \".jpg\")"
   ]
  }
 ],
 "metadata": {
  "kernelspec": {
   "display_name": "base",
   "language": "python",
   "name": "python3"
  },
  "language_info": {
   "codemirror_mode": {
    "name": "ipython",
    "version": 3
   },
   "file_extension": ".py",
   "mimetype": "text/x-python",
   "name": "python",
   "nbconvert_exporter": "python",
   "pygments_lexer": "ipython3",
   "version": "3.9.13"
  },
  "orig_nbformat": 4
 },
 "nbformat": 4,
 "nbformat_minor": 2
}
